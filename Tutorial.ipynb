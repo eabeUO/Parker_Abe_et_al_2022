{
 "cells": [
  {
   "attachments": {},
   "cell_type": "markdown",
   "metadata": {},
   "source": [
    "# Import Modules"
   ]
  },
  {
   "cell_type": "code",
   "execution_count": 1,
   "metadata": {},
   "outputs": [],
   "source": [
    "%load_ext autoreload\n",
    "%autoreload 2\n",
    "\n",
    "import warnings \n",
    "warnings.filterwarnings('ignore')\n",
    "import logging\n",
    "import numpy as np\n",
    "import matplotlib.pyplot as plt\n",
    "\n",
    "import ray\n",
    "from ray import tune\n",
    "from ray import air\n",
    "\n",
    "import torch\n",
    "torch.backends.cudnn.benchmark = True\n",
    "device = torch.device(\"cuda\" if torch.cuda.is_available() else \"cpu\")\n",
    "\n",
    "##### Custom package #####\n",
    "import pytorchGLM as pglm\n",
    "from pytorchGLM.main.training import train_network\n",
    "\n"
   ]
  },
  {
   "attachments": {},
   "cell_type": "markdown",
   "metadata": {},
   "source": [
    "# Format Data"
   ]
  },
  {
   "attachments": {},
   "cell_type": "markdown",
   "metadata": {},
   "source": [
    "## Loading  Niell lab Raw Data"
   ]
  },
  {
   "cell_type": "code",
   "execution_count": 5,
   "metadata": {},
   "outputs": [],
   "source": [
    "# Input arguments\n",
    "args = pglm.arg_parser(jupyter=True)\n",
    "\n",
    "##### Modify default argments if needed #####\n",
    "dates_all = ['070921/J553RT' ,'101521/J559NC','102821/J570LT','110421/J569LT'] #,'122021/J581RT','020422/J577RT'] # '102621/J558NC' '062921/G6HCK1ALTRN',\n",
    "args['date_ani']        = dates_all[0]\n",
    "args['free_move']       = True\n",
    "args['train_shifter']   = True\n",
    "args['Nepochs']         = 10000\n",
    "\n",
    "ModelID = 1\n",
    "params, file_dict, exp = pglm.load_params(args,ModelID,file_dict=None,exp_dir_name=None,nKfold=0,debug=False)\n"
   ]
  },
  {
   "cell_type": "code",
   "execution_count": 17,
   "metadata": {},
   "outputs": [
    {
     "name": "stdout",
     "output_type": "stream",
     "text": [
      "Tot_units: (128,)\n",
      "Good_units: (108,)\n"
     ]
    }
   ],
   "source": [
    "data = pglm.load_aligned_data(file_dict, params, reprocess=False)\n",
    "params = pglm.get_modeltype(params)\n",
    "train_dataset, test_dataset, network_config = pglm.load_datasets(file_dict,params,single_trial=True)\n"
   ]
  },
  {
   "cell_type": "code",
   "execution_count": 16,
   "metadata": {},
   "outputs": [
    {
     "name": "stdout",
     "output_type": "stream",
     "text": [
      "torch.Size([10, 5, 30, 40]) torch.Size([10, 3]) torch.Size([10, 108])\n"
     ]
    }
   ],
   "source": [
    "x,xpos,y = train_dataset[:10]\n",
    "print(x.shape,xpos.shape,y.shape)"
   ]
  },
  {
   "attachments": {},
   "cell_type": "markdown",
   "metadata": {},
   "source": [
    "## Custom Dataset Formatting Base Model"
   ]
  },
  {
   "cell_type": "code",
   "execution_count": 25,
   "metadata": {},
   "outputs": [
    {
     "data": {
      "text/plain": [
       "{'date_ani': '070921/J553RT',\n",
       " 'base_dir': '~/Research/SensoryMotorPred_Data/Testing',\n",
       " 'fig_dir': '~/Research/SensoryMotorPred_Data/FigTesting',\n",
       " 'data_dir': '~/Goeppert/nlab-nas/Dylan/freely_moving_ephys/ephys_recordings/',\n",
       " 'model_dt': 0.05,\n",
       " 'ds_vid': 4,\n",
       " 'Kfold': 0,\n",
       " 'ModRun': '1',\n",
       " 'Nepochs': 10,\n",
       " 'load_ray': False,\n",
       " 'do_norm': True,\n",
       " 'crop_input': True,\n",
       " 'free_move': True,\n",
       " 'thresh_cells': True,\n",
       " 'fm_dark': False,\n",
       " 'NoL1': False,\n",
       " 'NoL2': False,\n",
       " 'NoShifter': False,\n",
       " 'do_shuffle': False,\n",
       " 'use_spdpup': False,\n",
       " 'only_spdpup': False,\n",
       " 'train_shifter': False,\n",
       " 'shifter_5050': False,\n",
       " 'shifter_5050_run': False,\n",
       " 'EyeHead_only': False,\n",
       " 'EyeHead_only_run': False,\n",
       " 'SimRF': False}"
      ]
     },
     "execution_count": 25,
     "metadata": {},
     "output_type": "execute_result"
    }
   ],
   "source": [
    "args = pglm.arg_parser(jupyter=True)\n",
    "args"
   ]
  },
  {
   "cell_type": "code",
   "execution_count": 26,
   "metadata": {},
   "outputs": [],
   "source": [
    "\n",
    "def load_BaseModel_params(args,exp_dir_name='Testing',ModelID=0,nKfold=0,debug=False):\n",
    "    \"\"\" Load parameter dictionary for custom BaseModel network.\n",
    "\n",
    "    Args:\n",
    "        args (dict): Argument dictionary \n",
    "        exp_dir_name (str): name of experiment. \n",
    "        ModelID (int, optional): Model Identification number. Defaults to 0.\n",
    "        exp_dir_name (str, optional): Optional experiment directory name if using own data. Defaults to None.\n",
    "        nKfold (int, optional): Kfold number for versioning. Defaults to 0.\n",
    "        debug (bool, optional): debug=True does not create experiment directories. Defaults to False.\n",
    "\n",
    "    Returns:\n",
    "        params (dict): dictionary of parameters\n",
    "        exp (obj): Test_tube object for organizing files and tensorboard\n",
    "    \"\"\"\n",
    "    import yaml\n",
    "    from pathlib import Path\n",
    "    from test_tube import Experiment\n",
    "    \n",
    "    ##### Create directories and paths #####\n",
    "    date_ani2 = '_'.join(args['date_ani'].split('/'))\n",
    "    data_dir = Path(args['data_dir']).expanduser() / args['date_ani'] / args['stim_cond'] \n",
    "    base_dir = Path(args['base_dir']).expanduser()\n",
    "    save_dir = (base_dir / args['date_ani'] / args['stim_cond'])\n",
    "    save_dir.mkdir(parents=True, exist_ok=True)\n",
    "    base_dir.mkdir(parents=True, exist_ok=True)\n",
    "\n",
    "    ##### Set up test_tube versioning #####\n",
    "    exp = Experiment(name='ModelID{}'.format(ModelID),\n",
    "                        save_dir=save_dir / exp_dir_name, \n",
    "                        debug=debug,\n",
    "                        version=nKfold)\n",
    "\n",
    "    save_model = exp.save_dir / exp.name / 'version_{}'.format(nKfold)\n",
    "\n",
    "    params = {\n",
    "        ##### Data Parameters #####\n",
    "        'data_dir':                 data_dir,\n",
    "        'base_dir':                 base_dir,\n",
    "        'exp_name_base':            base_dir.name,\n",
    "        'stim_cond':                args['stim_cond'],\n",
    "        'save_dir':                 save_dir,\n",
    "        'exp_name':                 exp.save_dir.name,\n",
    "        'save_model':               save_model,\n",
    "        'date_ani2':                date_ani2,\n",
    "        'model_dt':                 args['model_dt'],\n",
    "        ##### Model Parameters #####\n",
    "        'ModelID':                  ModelID,\n",
    "        'lag_list':                 [0], # List of which timesteps to include in model fit\n",
    "        'Nepochs':                  args['Nepochs'],\n",
    "        'Kfold':                    args['Kfold'],\n",
    "        'NoL1':                     args['NoL1'],\n",
    "        'NoL2':                     args['NoL2'],\n",
    "        'train_shifter':            False,\n",
    "        'model_type':               'pytorchGLM_custom', # For naming files\n",
    "    }\n",
    "\n",
    "    params['nt_glm_lag']=len(params['lag_list']) # number of timesteps for model fits\n",
    "    params['data_name'] = '_'.join([params['date_ani2'],params['stim_cond']])\n",
    "    \n",
    "    ##### Saves yaml of parameters #####\n",
    "    if debug==False:\n",
    "        params2=params.copy()\n",
    "        for key in params2.keys():\n",
    "            if isinstance(params2[key], Path):\n",
    "                params2[key]=params2[key].as_posix()\n",
    "\n",
    "        pfile_path = save_model / 'model_params.yaml'\n",
    "        with open(pfile_path, 'w') as file:\n",
    "            doc = yaml.dump(params2, file, sort_keys=True)\n",
    "\n",
    "    return params, exp\n"
   ]
  },
  {
   "cell_type": "code",
   "execution_count": 90,
   "metadata": {},
   "outputs": [],
   "source": [
    "# Input arguments\n",
    "args = pglm.arg_parser(jupyter=True)\n",
    "\n",
    "##### Modify default argments if needed #####\n",
    "args['base_dir']        = '~/Research/SensoryMotorPred_Data/Testing'\n",
    "args['fig_dir']         = '~/Research/SensoryMotorPred_Data/FigTesting'\n",
    "args['data_dir']        = '~/Goeppert/nlab-nas/Dylan/freely_moving_ephys/ephys_recordings/'\n",
    "args['date_ani']        = '011523/TestAni'\n",
    "args['stim_cond']       = 'Control'\n",
    "args['Nepochs']         = 50\n",
    "args['NoL1']            = True\n",
    "args['NoL2']            = True\n",
    "args['model_dt']        = 0\n",
    "\n",
    "params, exp = load_BaseModel_params(args=args,exp_dir_name='CustomData',ModelID=0)"
   ]
  },
  {
   "cell_type": "code",
   "execution_count": 91,
   "metadata": {},
   "outputs": [],
   "source": [
    "from sklearn.gaussian_process.kernels import RBF\n",
    "\n",
    "seed = 2\n",
    "np.random.seed(seed)\n",
    "torch.manual_seed(seed)\n",
    "\n",
    "def initialize_GP_inputs(Npats,length_scale,batch_size,Nx_low,Nx,Ny_star,Nr,seed=42,multi_input=False,pytorch=True):\n",
    "    \n",
    "    ##### Set random seed #####\n",
    "    np.random.seed(seed+1)\n",
    "    torch.manual_seed(seed+1)\n",
    "    ##### Initialize RBF kernels #####\n",
    "    rbf = RBF(length_scale=length_scale)\n",
    "    genX = np.arange(Npats)[:,np.newaxis]\n",
    "    genY = np.arange(Npats)[:,np.newaxis]\n",
    "    Kx = rbf(genX,genX)\n",
    "    Ky = rbf(genY,genY)\n",
    "    if multi_input:\n",
    "        ##### Initialize inputs #####\n",
    "        x_low0 = torch.transpose(torch.from_numpy(np.random.multivariate_normal(np.zeros(Npats), Kx,size=(batch_size,Nx_low))),2,1).float()\n",
    "        x_low1 = torch.transpose(torch.from_numpy(np.random.multivariate_normal(np.zeros(Npats), Kx,size=(batch_size,Nx_low))),2,1).float()\n",
    "        x_expand = torch.randn(size=(batch_size,Nx_low,Nx)).float()\n",
    "        x0 = torch.bmm(x_low0,x_expand)\n",
    "        x1 = torch.bmm(x_low1,x_expand)\n",
    "        x_all = torch.stack((x0,x1),dim=1).float()\n",
    "        ##### Initialize target patterns #####\n",
    "        y_all = torch.transpose(torch.from_numpy(np.random.multivariate_normal(np.zeros(Npats), Ky,size=(1,Ny_star,Nr))),3,2)\n",
    "        y_all = ((y_all/torch.max(torch.max(torch.abs(y_all),dim=1,keepdim=True)[0],dim=2,keepdim=True)[0]).repeat(batch_size,1,1,1))\n",
    "    else:\n",
    "        ##### Initialize inputs #####\n",
    "        x_low0 = torch.transpose(torch.from_numpy(np.random.multivariate_normal(np.zeros(Npats), Kx,size=(batch_size,Nx_low))),2,1).float()\n",
    "        x_expand = torch.randn(size=(batch_size,Nx_low,Nx)).float()\n",
    "        x_all = torch.bmm(x_low0,x_expand)\n",
    "        ##### Initialize target patterns #####\n",
    "        y_all = torch.from_numpy(np.random.multivariate_normal(np.zeros(Npats), Ky,size=(1,Nr)))\n",
    "        y_all = torch.transpose((y_all/torch.max(torch.max(torch.abs(y_all),dim=1,keepdim=True)[0],dim=2,keepdim=True)[0]).repeat(batch_size,1,1),-1,-2)\n",
    "\n",
    "    if pytorch:\n",
    "        x_all = x_all.float()\n",
    "        y_all = y_all.float()\n",
    "    else:\n",
    "        x_all = x_all.float().numpy()\n",
    "        y_all = y_all.float().numpy()\n",
    "\n",
    "    return x_all, y_all\n"
   ]
  },
  {
   "cell_type": "code",
   "execution_count": 115,
   "metadata": {},
   "outputs": [
    {
     "name": "stdout",
     "output_type": "stream",
     "text": [
      "X: torch.Size([750, 10]) Xpos: torch.Size([750, 10]) y: torch.Size([750, 5])\n",
      "X: torch.Size([250, 10]) Xpos: torch.Size([250, 10]) y: torch.Size([250, 5])\n"
     ]
    }
   ],
   "source": [
    "x_all,y_all = initialize_GP_inputs(Npats=1000,length_scale=3,batch_size=1,Nx_low=2,Nx=10,Ny_star=2,Nr=5,pytorch=True)\n",
    "x_all, y_all = x_all.squeeze(),y_all.squeeze()\n",
    "y_all = (y_all+1)/2\n",
    "x_all = x_all/torch.max(torch.abs(x_all))\n",
    "xtr,xte = x_all[:750], x_all[750:]\n",
    "xtr_pos,xte_pos = torch.zeros_like(xtr).float(),torch.zeros_like(xte).float()\n",
    "ytr,yte = y_all[:750], y_all[750:]\n",
    "\n",
    "print('X:',xtr.shape,'Xpos:',xtr_pos.shape,'y:',ytr.shape)\n",
    "print('X:',xte.shape,'Xpos:',xte_pos.shape,'y:',yte.shape)\n",
    "params['nk'] = xtr.shape[-1]\n",
    "params['Ncells'] = ytr.shape[-1]\n",
    "train_dataset = pglm.FreeMovingEphysDataset(xtr,xtr_pos,ytr)\n",
    "test_dataset = pglm.FreeMovingEphysDataset(xte,xte_pos,yte)\n"
   ]
  },
  {
   "cell_type": "code",
   "execution_count": 116,
   "metadata": {},
   "outputs": [],
   "source": [
    "network_config = pglm.make_network_config(params,single_trial=0,custom=True)\n",
    "network_config['lr_w'] = .05\n",
    "network_config['lr_b'] = .05"
   ]
  },
  {
   "cell_type": "code",
   "execution_count": 117,
   "metadata": {},
   "outputs": [
    {
     "data": {
      "application/vnd.jupyter.widget-view+json": {
       "model_id": "deda61337fac4a0ca11659d3aa44618e",
       "version_major": 2,
       "version_minor": 0
      },
      "text/plain": [
       "  0%|          | 0/50 [00:00<?, ?it/s]"
      ]
     },
     "metadata": {},
     "output_type": "display_data"
    }
   ],
   "source": [
    "tloss_trace,vloss_trace,model,optimizer = train_network(network_config, params=params,train_dataset=train_dataset,test_dataset=test_dataset,filename=None,meanbias=None)"
   ]
  },
  {
   "cell_type": "code",
   "execution_count": 118,
   "metadata": {},
   "outputs": [
    {
     "data": {
      "text/plain": [
       "[<matplotlib.lines.Line2D at 0x7fa8c4bbb310>,\n",
       " <matplotlib.lines.Line2D at 0x7fa8c4bbb370>,\n",
       " <matplotlib.lines.Line2D at 0x7fa8c4bbb490>,\n",
       " <matplotlib.lines.Line2D at 0x7fa8c4bbb5b0>,\n",
       " <matplotlib.lines.Line2D at 0x7fa8c4bbb6d0>]"
      ]
     },
     "execution_count": 118,
     "metadata": {},
     "output_type": "execute_result"
    },
    {
     "data": {
      "image/png": "[encoded data removed]",
      "text/plain": [
       "<Figure size 432x288 with 1 Axes>"
      ]
     },
     "metadata": {
      "needs_background": "light"
     },
     "output_type": "display_data"
    }
   ],
   "source": [
    "plt.plot(vloss_trace)"
   ]
  },
  {
   "cell_type": "code",
   "execution_count": 120,
   "metadata": {},
   "outputs": [
    {
     "data": {
      "text/plain": [
       "array([[1.        , 0.07154684],\n",
       "       [0.07154684, 1.        ]])"
      ]
     },
     "execution_count": 120,
     "metadata": {},
     "output_type": "execute_result"
    }
   ],
   "source": [
    "yhat = model(xte.to(device),xte_pos.to(device)).detach().cpu().numpy().squeeze()\n",
    "yt = yte.cpu().detach().numpy().squeeze()\n",
    "# plt.imshow(np.corrcoef(yhat.T,yt.T))\n",
    "np.corrcoef(yhat[:,1],yt[:,1])"
   ]
  },
  {
   "cell_type": "code",
   "execution_count": 121,
   "metadata": {},
   "outputs": [
    {
     "data": {
      "text/plain": [
       "[<matplotlib.lines.Line2D at 0x7fa8c4b8c640>]"
      ]
     },
     "execution_count": 121,
     "metadata": {},
     "output_type": "execute_result"
    },
    {
     "data": {
      "image/png": "[encoded data removed]",
      "text/plain": [
       "<Figure size 432x288 with 1 Axes>"
      ]
     },
     "metadata": {
      "needs_background": "light"
     },
     "output_type": "display_data"
    }
   ],
   "source": [
    "plt.plot(yte[:,0])\n",
    "plt.plot(yhat[:,0])"
   ]
  },
  {
   "cell_type": "code",
   "execution_count": 99,
   "metadata": {},
   "outputs": [
    {
     "data": {
      "text/plain": [
       "array([[ 1.        , -0.03637109],\n",
       "       [-0.03637109,  1.        ]])"
      ]
     },
     "execution_count": 99,
     "metadata": {},
     "output_type": "execute_result"
    }
   ],
   "source": [
    "from sklearn.linear_model import LinearRegression\n",
    "x_all,y_all = initialize_GP_inputs(Npats=1000,length_scale=3,batch_size=1,Nx_low=2,Nx=10,Ny_star=2,Nr=5,pytorch=False)\n",
    "x_all, y_all = x_all.squeeze(),y_all.squeeze()\n",
    "y_all = (y_all+1)/2\n",
    "x_all = x_all/np.max(np.abs(x_all))\n",
    "xtr,xte = x_all[:750], x_all[750:]\n",
    "xtr_pos,xte_pos = np.zeros_like(xtr),np.zeros_like(xte)\n",
    "ytr,yte = y_all[:750], y_all[750:]\n",
    "\n",
    "l1 = LinearRegression()\n",
    "l1.fit(xtr,ytr)\n",
    "yhat = l1.predict(xte)\n",
    "np.corrcoef(yhat[:,0],yte[:,0])"
   ]
  },
  {
   "cell_type": "code",
   "execution_count": 101,
   "metadata": {},
   "outputs": [
    {
     "data": {
      "text/plain": [
       "[<matplotlib.lines.Line2D at 0x7fa8c601a6a0>]"
      ]
     },
     "execution_count": 101,
     "metadata": {},
     "output_type": "execute_result"
    },
    {
     "data": {
      "image/png": "[encoded data removed]",
      "text/plain": [
       "<Figure size 432x288 with 1 Axes>"
      ]
     },
     "metadata": {
      "needs_background": "light"
     },
     "output_type": "display_data"
    }
   ],
   "source": [
    "plt.plot(yte[:,1])\n",
    "plt.plot(yhat[:,1])"
   ]
  },
  {
   "cell_type": "code",
   "execution_count": 40,
   "metadata": {},
   "outputs": [],
   "source": [
    "from pytorchGLM.main.models import BaseModel,model_wrapper\n",
    "from torch.utils.data import DataLoader\n"
   ]
  },
  {
   "cell_type": "code",
   "execution_count": 46,
   "metadata": {},
   "outputs": [
    {
     "name": "stdout",
     "output_type": "stream",
     "text": [
      "Parameter containing:\n",
      "tensor([[-5.0009e-07, -8.1743e-07,  2.1945e-08, -4.8368e-07,  6.3098e-07,\n",
      "         -5.1876e-07,  1.0562e-07, -8.7499e-07, -2.9799e-09,  8.7674e-07],\n",
      "        [ 5.3007e-07,  4.2272e-07, -5.8745e-07,  8.5477e-07, -4.9860e-07,\n",
      "          9.1934e-07, -8.2605e-07, -4.9342e-07, -3.0445e-07,  1.6749e-07],\n",
      "        [ 5.4363e-07,  2.1383e-07, -3.7437e-07, -7.9645e-07, -2.9261e-07,\n",
      "         -4.7353e-07, -6.0321e-07,  6.2032e-07,  1.3948e-07, -5.3749e-07],\n",
      "        [ 4.7595e-07, -6.7444e-07, -5.8802e-07, -9.6871e-08,  6.5612e-07,\n",
      "          5.1065e-07, -6.7472e-07, -7.0537e-07,  3.3628e-07, -7.2493e-08],\n",
      "        [ 1.0281e-07,  2.8479e-08, -7.1590e-07, -1.6872e-07, -3.1956e-07,\n",
      "         -1.7290e-07,  6.2878e-07, -9.3838e-07,  9.1077e-08,  9.8039e-07]],\n",
      "       device='cuda:0', requires_grad=True)\n",
      "Parameter containing:\n",
      "tensor([ 0.2847, -0.2718,  0.0555,  0.2295,  0.2289], device='cuda:0',\n",
      "       requires_grad=True)\n"
     ]
    },
    {
     "data": {
      "application/vnd.jupyter.widget-view+json": {
       "model_id": "eae38b5608744c13b137c087c9ae2c0d",
       "version_major": 2,
       "version_minor": 0
      },
      "text/plain": [
       "  0%|          | 0/20 [00:00<?, ?it/s]"
      ]
     },
     "metadata": {},
     "output_type": "display_data"
    }
   ],
   "source": [
    "model = model_wrapper((network_config,BaseModel))\n",
    "\n",
    "model.to(device)\n",
    "for p in model.Cell_NN[0].parameters():\n",
    "    print(p)\n",
    "optimizer, scheduler = pglm.setup_model_training(model,params,network_config)\n",
    "train_dataloader = DataLoader(train_dataset, batch_size=len(train_dataset), num_workers=2, pin_memory=True,)\n",
    "test_dataloader  = DataLoader(test_dataset,  batch_size=len(test_dataset),  num_workers=2, pin_memory=True,)\n",
    "tloss_trace = torch.zeros((params['Nepochs'], network_config['Ncells']), dtype=torch.float)\n",
    "\n",
    "if network_config['single_trial'] is not None:\n",
    "    pbar = pglm.tqdm((range(params['Nepochs'])))\n",
    "else: \n",
    "    pbar = (range(params['Nepochs']))  \n",
    "for epoch in pbar:  # loop over the dataset multiple times\n",
    "    for i, minibatch in enumerate(train_dataloader, 0):\n",
    "        # get the inputs; minibatch is a list of [vid, pos, y]\n",
    "        vid,pos,y = minibatch\n",
    "        vid,pos,y = vid.to(device),pos.to(device),y.to(device)\n",
    "\n",
    "        # zero the parameter gradients\n",
    "        optimizer.zero_grad()\n",
    "\n",
    "        # forward + backward + optimize\n",
    "        outputs = model(vid,pos)\n",
    "        loss = model.loss(outputs, y)\n",
    "        loss.backward(torch.ones_like(loss))\n",
    "        optimizer.step()\n",
    "        tloss_trace[epoch] = loss.detach().cpu()"
   ]
  },
  {
   "cell_type": "code",
   "execution_count": 47,
   "metadata": {},
   "outputs": [
    {
     "data": {
      "text/plain": [
       "tensor([[0.0638, 0.2985, 0.2120, 0.0929, 0.0895],\n",
       "        [0.0596, 0.2985, 0.2017, 0.0868, 0.0837],\n",
       "        [0.0556, 0.2985, 0.1921, 0.0813, 0.0785],\n",
       "        [0.0518, 0.2985, 0.1830, 0.0764, 0.0739],\n",
       "        [0.0482, 0.2985, 0.1741, 0.0720, 0.0697],\n",
       "        [0.0448, 0.2985, 0.1658, 0.0677, 0.0657],\n",
       "        [0.0416, 0.2985, 0.1579, 0.0636, 0.0620],\n",
       "        [0.0387, 0.2985, 0.1506, 0.0597, 0.0584],\n",
       "        [0.0359, 0.2985, 0.1437, 0.0559, 0.0551],\n",
       "        [0.0334, 0.2985, 0.1372, 0.0523, 0.0519],\n",
       "        [0.0311, 0.2985, 0.1313, 0.0489, 0.0490],\n",
       "        [0.0290, 0.2985, 0.1260, 0.0458, 0.0463],\n",
       "        [0.0271, 0.2985, 0.1211, 0.0429, 0.0438],\n",
       "        [0.0254, 0.2985, 0.1167, 0.0402, 0.0415],\n",
       "        [0.0238, 0.2985, 0.1127, 0.0378, 0.0393],\n",
       "        [0.0225, 0.2985, 0.1091, 0.0355, 0.0374],\n",
       "        [0.0213, 0.2985, 0.1057, 0.0334, 0.0356],\n",
       "        [0.0203, 0.2985, 0.1026, 0.0315, 0.0340],\n",
       "        [0.0195, 0.2985, 0.0995, 0.0297, 0.0326],\n",
       "        [0.0188, 0.2985, 0.0965, 0.0282, 0.0314]])"
      ]
     },
     "execution_count": 47,
     "metadata": {},
     "output_type": "execute_result"
    }
   ],
   "source": [
    "tloss_trace"
   ]
  },
  {
   "cell_type": "code",
   "execution_count": 48,
   "metadata": {},
   "outputs": [
    {
     "name": "stdout",
     "output_type": "stream",
     "text": [
      "Parameter containing:\n",
      "tensor([[ 1.6907e-02, -9.7285e-04,  1.2513e-03,  1.9897e-02, -1.0934e-02,\n",
      "          1.5800e-02, -2.3851e-02, -2.0874e-02, -1.9836e-02,  1.2443e-02],\n",
      "        [ 5.3007e-07,  4.2272e-07, -5.8745e-07,  8.5477e-07, -4.9860e-07,\n",
      "          9.1934e-07, -8.2605e-07, -4.9342e-07, -3.0445e-07,  1.6749e-07],\n",
      "        [-1.4449e-01, -2.5916e-02, -6.7773e-03, -1.3821e-01,  1.5696e-01,\n",
      "         -1.4694e-01,  1.2372e-01,  1.3600e-01,  1.3831e-01, -1.5356e-01],\n",
      "        [-1.1203e-02,  1.8580e-02, -1.7263e-02, -1.1014e-02,  5.4900e-03,\n",
      "         -1.1162e-02,  1.1334e-02,  1.0994e-02,  1.1020e-02, -9.2893e-03],\n",
      "        [-1.2248e-02,  3.6067e-02, -3.4728e-02, -1.7090e-02, -3.0198e-02,\n",
      "         -8.7286e-03,  2.2987e-02,  1.8236e-02,  1.7036e-02,  1.2285e-02]],\n",
      "       device='cuda:0', requires_grad=True)\n",
      "Parameter containing:\n",
      "tensor([ 0.4653, -0.2718,  0.2413,  0.4152,  0.4128], device='cuda:0',\n",
      "       requires_grad=True)\n"
     ]
    }
   ],
   "source": [
    "for p in model.Cell_NN[0].parameters():\n",
    "    print(p)"
   ]
  },
  {
   "attachments": {},
   "cell_type": "markdown",
   "metadata": {},
   "source": [
    "# Ray Tune Training: Parallel Cross Validation"
   ]
  },
  {
   "cell_type": "code",
   "execution_count": null,
   "metadata": {},
   "outputs": [],
   "source": [
    "\n",
    "sync_config = tune.SyncConfig()  # the default mode is to use use rsync\n",
    "tuner = tune.Tuner(\n",
    "    tune.with_resources(\n",
    "        tune.with_parameters(train_network,params=params,train_dataset=train_dataset,test_dataset=test_dataset),\n",
    "        resources={\"cpu\": 2, \"gpu\": .5}),\n",
    "    tune_config=tune.TuneConfig(metric=\"avg_loss\",mode=\"min\",),\n",
    "    param_space=network_config,\n",
    "    run_config=air.RunConfig(local_dir=params['save_model'], name=\"NetworkAnalysis\",sync_config=sync_config,verbose=2)\n",
    ")\n",
    "results = tuner.fit()\n",
    "\n",
    "best_result = results.get_best_result(\"avg_loss\", \"min\")\n",
    "\n",
    "print(\"Best trial config: {}\".format(best_result.config))\n",
    "print(\"Best trial final validation loss: {}\".format(best_result.metrics[\"avg_loss\"]))\n",
    "df = results.get_dataframe()\n",
    "best_network = list(params['save_model'].glob('*{}.pt'.format(best_result.metrics['trial_id'])))[0]\n",
    "pglm.h5store(params['save_model'] / 'NetworkAnalysis/experiment_data.h5', df, **{'best_network':best_network})"
   ]
  },
  {
   "cell_type": "code",
   "execution_count": null,
   "metadata": {},
   "outputs": [],
   "source": []
  }
 ],
 "metadata": {
  "kernelspec": {
   "display_name": "pytorchGLM",
   "language": "python",
   "name": "python3"
  },
  "language_info": {
   "codemirror_mode": {
    "name": "ipython",
    "version": 3
   },
   "file_extension": ".py",
   "mimetype": "text/x-python",
   "name": "python",
   "nbconvert_exporter": "python",
   "pygments_lexer": "ipython3",
   "version": "3.8.0"
  },
  "orig_nbformat": 4,
  "vscode": {
   "interpreter": {
    "hash": "3496b118a4d22d6a6f5485f441160c3e17db178642e3548badf1988c7bf383fe"
   }
  }
 },
 "nbformat": 4,
 "nbformat_minor": 2
}
