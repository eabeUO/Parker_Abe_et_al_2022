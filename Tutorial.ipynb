{
 "cells": [
  {
   "attachments": {},
   "cell_type": "markdown",
   "metadata": {},
   "source": [
    "# Import Modules"
   ]
  },
  {
   "cell_type": "code",
   "execution_count": 1,
   "metadata": {},
   "outputs": [],
   "source": [
    "%load_ext autoreload\n",
    "%autoreload 2\n",
    "\n",
    "import warnings \n",
    "warnings.filterwarnings('ignore')\n",
    "import logging\n",
    "import numpy as np\n",
    "import matplotlib.pyplot as plt\n",
    "\n",
    "import ray\n",
    "from ray import tune\n",
    "from ray import air\n",
    "\n",
    "import torch\n",
    "torch.backends.cudnn.benchmark = True\n",
    "device = torch.device(\"cuda\" if torch.cuda.is_available() else \"cpu\")\n",
    "\n",
    "##### Custom package #####\n",
    "import pytorchGLM as pglm\n",
    "from pytorchGLM.main.training import train_network\n",
    "\n",
    "##### Plotting settings ######\n",
    "import matplotlib as mpl\n",
    "\n",
    "mpl.rcParams.update({'font.size':         10,\n",
    "                     'axes.linewidth':    2,\n",
    "                     'xtick.major.size':  3,\n",
    "                     'xtick.major.width': 2,\n",
    "                     'ytick.major.size':  3,\n",
    "                     'ytick.major.width': 2,\n",
    "                     'axes.spines.right': False,\n",
    "                     'axes.spines.top':   False,\n",
    "                     'font.sans-serif':   \"Arial\",\n",
    "                     'font.family':       \"sans-serif\",\n",
    "                     'pdf.fonttype':      42,\n",
    "                     'xtick.labelsize':   10,\n",
    "                     'ytick.labelsize':   10,\n",
    "                     'figure.facecolor': 'white'\n",
    "\n",
    "                    })\n"
   ]
  },
  {
   "attachments": {},
   "cell_type": "markdown",
   "metadata": {},
   "source": [
    "# Format Data"
   ]
  },
  {
   "attachments": {},
   "cell_type": "markdown",
   "metadata": {},
   "source": [
    "## Loading  Niell lab Raw Data"
   ]
  },
  {
   "cell_type": "code",
   "execution_count": null,
   "metadata": {},
   "outputs": [],
   "source": [
    "# Input arguments\n",
    "args = pglm.arg_parser(jupyter=True)\n",
    "\n",
    "##### Modify default argments if needed #####\n",
    "dates_all = ['070921/J553RT' ,'101521/J559NC','102821/J570LT','110421/J569LT'] #,'122021/J581RT','020422/J577RT'] # '102621/J558NC' '062921/G6HCK1ALTRN',\n",
    "args['date_ani']        = dates_all[0]\n",
    "args['free_move']       = True\n",
    "args['train_shifter']   = True\n",
    "args['Nepochs']         = 10000\n",
    "\n",
    "ModelID = 1\n",
    "params, file_dict, exp = pglm.load_params(args,ModelID,file_dict=None,exp_dir_name=None,nKfold=0,debug=False)\n"
   ]
  },
  {
   "cell_type": "code",
   "execution_count": null,
   "metadata": {},
   "outputs": [],
   "source": [
    "data = pglm.load_aligned_data(file_dict, params, reprocess=False)\n",
    "params = pglm.get_modeltype(params)\n",
    "train_dataset, test_dataset, network_config = pglm.load_datasets(file_dict,params,single_trial=True)\n"
   ]
  },
  {
   "cell_type": "code",
   "execution_count": null,
   "metadata": {},
   "outputs": [],
   "source": [
    "x,xpos,y = train_dataset[:10]\n",
    "print(x.shape,xpos.shape,y.shape)"
   ]
  },
  {
   "attachments": {},
   "cell_type": "markdown",
   "metadata": {},
   "source": [
    "## Custom Dataset Formatting Base Model"
   ]
  },
  {
   "cell_type": "code",
   "execution_count": 3,
   "metadata": {},
   "outputs": [
    {
     "data": {
      "text/plain": [
       "{'date_ani': '070921/J553RT',\n",
       " 'base_dir': '~/Research/SensoryMotorPred_Data/Testing',\n",
       " 'fig_dir': '~/Research/SensoryMotorPred_Data/FigTesting',\n",
       " 'data_dir': '~/Goeppert/nlab-nas/Dylan/freely_moving_ephys/ephys_recordings/',\n",
       " 'model_dt': 0.05,\n",
       " 'ds_vid': 4,\n",
       " 'Kfold': 0,\n",
       " 'ModRun': '1',\n",
       " 'Nepochs': 10,\n",
       " 'load_ray': False,\n",
       " 'do_norm': True,\n",
       " 'crop_input': True,\n",
       " 'free_move': True,\n",
       " 'thresh_cells': True,\n",
       " 'fm_dark': False,\n",
       " 'NoL1': False,\n",
       " 'NoL2': False,\n",
       " 'NoShifter': False,\n",
       " 'do_shuffle': False,\n",
       " 'use_spdpup': False,\n",
       " 'only_spdpup': False,\n",
       " 'train_shifter': False,\n",
       " 'shifter_5050': False,\n",
       " 'shifter_5050_run': False,\n",
       " 'EyeHead_only': False,\n",
       " 'EyeHead_only_run': False,\n",
       " 'SimRF': False}"
      ]
     },
     "execution_count": 3,
     "metadata": {},
     "output_type": "execute_result"
    }
   ],
   "source": [
    "args = pglm.arg_parser(jupyter=True)\n",
    "args"
   ]
  },
  {
   "cell_type": "code",
   "execution_count": 4,
   "metadata": {},
   "outputs": [],
   "source": [
    "\n",
    "def load_BaseModel_params(args,exp_dir_name='Testing',ModelID=0,nKfold=0,debug=False):\n",
    "    \"\"\" Load parameter dictionary for custom BaseModel network.\n",
    "\n",
    "    Args:\n",
    "        args (dict): Argument dictionary \n",
    "        exp_dir_name (str): name of experiment. \n",
    "        ModelID (int, optional): Model Identification number. Defaults to 0.\n",
    "        exp_dir_name (str, optional): Optional experiment directory name if using own data. Defaults to None.\n",
    "        nKfold (int, optional): Kfold number for versioning. Defaults to 0.\n",
    "        debug (bool, optional): debug=True does not create experiment directories. Defaults to False.\n",
    "\n",
    "    Returns:\n",
    "        params (dict): dictionary of parameters\n",
    "        exp (obj): Test_tube object for organizing files and tensorboard\n",
    "    \"\"\"\n",
    "    import yaml\n",
    "    from pathlib import Path\n",
    "    from test_tube import Experiment\n",
    "    \n",
    "    ##### Create directories and paths #####\n",
    "    date_ani2 = '_'.join(args['date_ani'].split('/'))\n",
    "    data_dir = Path(args['data_dir']).expanduser() / args['date_ani'] / args['stim_cond'] \n",
    "    base_dir = Path(args['base_dir']).expanduser()\n",
    "    save_dir = (base_dir / args['date_ani'] / args['stim_cond'])\n",
    "    save_dir.mkdir(parents=True, exist_ok=True)\n",
    "    base_dir.mkdir(parents=True, exist_ok=True)\n",
    "\n",
    "    ##### Set up test_tube versioning #####\n",
    "    exp = Experiment(name='ModelID{}'.format(ModelID),\n",
    "                        save_dir=save_dir / exp_dir_name, \n",
    "                        debug=debug,\n",
    "                        version=nKfold)\n",
    "\n",
    "    save_model = exp.save_dir / exp.name / 'version_{}'.format(nKfold)\n",
    "\n",
    "    params = {\n",
    "        ##### Data Parameters #####\n",
    "        'data_dir':                 data_dir,\n",
    "        'base_dir':                 base_dir,\n",
    "        'exp_name_base':            base_dir.name,\n",
    "        'stim_cond':                args['stim_cond'],\n",
    "        'save_dir':                 save_dir,\n",
    "        'exp_name':                 exp.save_dir.name,\n",
    "        'save_model':               save_model,\n",
    "        'date_ani2':                date_ani2,\n",
    "        'model_dt':                 args['model_dt'],\n",
    "        ##### Model Parameters #####\n",
    "        'ModelID':                  ModelID,\n",
    "        'lag_list':                 [0], # List of which timesteps to include in model fit\n",
    "        'Nepochs':                  args['Nepochs'],\n",
    "        'Kfold':                    args['Kfold'],\n",
    "        'NoL1':                     args['NoL1'],\n",
    "        'NoL2':                     args['NoL2'],\n",
    "        'initW':                    'zero',\n",
    "        'train_shifter':            False,\n",
    "        'model_type':               'pytorchGLM_custom', # For naming files\n",
    "    }\n",
    "\n",
    "    params['nt_glm_lag']=len(params['lag_list']) # number of timesteps for model fits\n",
    "    params['data_name'] = '_'.join([params['date_ani2'],params['stim_cond']])\n",
    "    \n",
    "    ##### Saves yaml of parameters #####\n",
    "    if debug==False:\n",
    "        params2=params.copy()\n",
    "        for key in params2.keys():\n",
    "            if isinstance(params2[key], Path):\n",
    "                params2[key]=params2[key].as_posix()\n",
    "\n",
    "        pfile_path = save_model / 'model_params.yaml'\n",
    "        with open(pfile_path, 'w') as file:\n",
    "            doc = yaml.dump(params2, file, sort_keys=True)\n",
    "\n",
    "    return params, exp\n"
   ]
  },
  {
   "cell_type": "code",
   "execution_count": 5,
   "metadata": {},
   "outputs": [],
   "source": [
    "# Input arguments\n",
    "args = pglm.arg_parser(jupyter=True)\n",
    "\n",
    "##### Modify default argments if needed #####\n",
    "args['base_dir']        = '~/Research/SensoryMotorPred_Data/Testing'\n",
    "args['fig_dir']         = '~/Research/SensoryMotorPred_Data/FigTesting'\n",
    "args['data_dir']        = '~/Goeppert/nlab-nas/Dylan/freely_moving_ephys/ephys_recordings/'\n",
    "args['date_ani']        = '011523/TestAni'\n",
    "args['stim_cond']       = 'Control'\n",
    "args['Nepochs']         = 50\n",
    "args['NoL1']            = True\n",
    "args['NoL2']            = False\n",
    "args['model_dt']        = 0\n",
    "\n",
    "params, exp = load_BaseModel_params(args=args,exp_dir_name='CustomData',ModelID=0)"
   ]
  },
  {
   "cell_type": "code",
   "execution_count": 6,
   "metadata": {},
   "outputs": [],
   "source": [
    "from sklearn.gaussian_process.kernels import RBF\n",
    "\n",
    "seed = 2\n",
    "np.random.seed(seed)\n",
    "torch.manual_seed(seed)\n",
    "\n",
    "def initialize_GP_inputs(Npats,length_scale,batch_size,Nx_low,Nx,Ny_star,Nr,seed=42,multi_input=False,pytorch=True):\n",
    "    \n",
    "    ##### Set random seed #####\n",
    "    np.random.seed(seed+1)\n",
    "    torch.manual_seed(seed+1)\n",
    "    ##### Initialize RBF kernels #####\n",
    "    rbf = RBF(length_scale=length_scale)\n",
    "    genX = np.arange(Npats)[:,np.newaxis]\n",
    "    genY = np.arange(Npats)[:,np.newaxis]\n",
    "    Kx = rbf(genX,genX)\n",
    "    Ky = rbf(genY,genY)\n",
    "    if multi_input:\n",
    "        ##### Initialize inputs #####\n",
    "        x_low0 = torch.transpose(torch.from_numpy(np.random.multivariate_normal(np.zeros(Npats), Kx,size=(batch_size,Nx_low))),2,1).float()\n",
    "        x_low1 = torch.transpose(torch.from_numpy(np.random.multivariate_normal(np.zeros(Npats), Kx,size=(batch_size,Nx_low))),2,1).float()\n",
    "        x_expand = torch.randn(size=(batch_size,Nx_low,Nx)).float()\n",
    "        x0 = torch.bmm(x_low0,x_expand)\n",
    "        x1 = torch.bmm(x_low1,x_expand)\n",
    "        x_all = torch.stack((x0,x1),dim=1).float()\n",
    "        ##### Initialize target patterns #####\n",
    "        y_all = torch.transpose(torch.from_numpy(np.random.multivariate_normal(np.zeros(Npats), Ky,size=(1,Ny_star,Nr))),3,2)\n",
    "        y_all = ((y_all/torch.max(torch.max(torch.abs(y_all),dim=1,keepdim=True)[0],dim=2,keepdim=True)[0]).repeat(batch_size,1,1,1))\n",
    "    else:\n",
    "        ##### Initialize inputs #####\n",
    "        x_low0 = torch.transpose(torch.from_numpy(np.random.multivariate_normal(np.zeros(Npats), Kx,size=(batch_size,Nx_low))),2,1).float()\n",
    "        x_expand = torch.randn(size=(batch_size,Nx_low,Nx)).float()\n",
    "        x_all = torch.bmm(x_low0,x_expand)#.numpy()\n",
    "        # x_all = torch.from_numpy((x_all - np.nanmean(x_all,axis=0))/np.nanstd(x_all,axis=0)).float()\n",
    "        ##### Initialize target patterns #####\n",
    "        y_all = torch.from_numpy(np.random.multivariate_normal(np.zeros(Npats), Ky,size=(1,Nr)))\n",
    "        y_all = torch.transpose((y_all/torch.max(torch.max(torch.abs(y_all),dim=1,keepdim=True)[0],dim=2,keepdim=True)[0]).repeat(batch_size,1,1),-1,-2)\n",
    "\n",
    "    if pytorch:\n",
    "        x_all = x_all.float()\n",
    "        y_all = y_all.float()\n",
    "    else:\n",
    "        x_all = x_all.float().numpy()\n",
    "        y_all = y_all.float().numpy()\n",
    "\n",
    "    return x_all, y_all\n"
   ]
  },
  {
   "cell_type": "code",
   "execution_count": 7,
   "metadata": {},
   "outputs": [
    {
     "name": "stdout",
     "output_type": "stream",
     "text": [
      "X: torch.Size([800, 100]) Xpos: torch.Size([800, 100]) y: torch.Size([800, 10])\n",
      "X: torch.Size([200, 100]) Xpos: torch.Size([200, 100]) y: torch.Size([200, 10])\n"
     ]
    }
   ],
   "source": [
    "from sklearn.model_selection import GroupShuffleSplit\n",
    "\n",
    "##### Generating data #####\n",
    "x_all,y_all = initialize_GP_inputs(Npats=1000,length_scale=5,batch_size=1,Nx_low=2,Nx=100,Ny_star=2,Nr=10,pytorch=True)\n",
    "x_all, y_all = x_all.squeeze(),y_all.squeeze()\n",
    "y_all = (y_all+1)/2\n",
    "x_all = (x_all - np.nanmean(x_all,axis=0))/np.nanstd(x_all,axis=0)\n",
    "\n",
    "##### Train/Test Splits ####\n",
    "gss = GroupShuffleSplit(n_splits=1, train_size=.8, random_state=42)\n",
    "frac = 0.1\n",
    "nT = x_all.shape[0]\n",
    "groups = np.hstack([i*np.ones(int((frac*i)*nT) - int((frac*(i-1))*nT)) for i in range(1,int(1/frac)+1)])\n",
    "train_idx, test_idx = next(iter(gss.split(np.arange(x_all.shape[0]), groups=groups)))\n",
    "# train_idx, test_idx = torch.from_numpy(train_idx), torch.from_numpy(test_idx)\n",
    "xtr,xte = x_all[train_idx], x_all[test_idx]\n",
    "xtr_pos,xte_pos = torch.zeros_like(xtr).float(),torch.zeros_like(xte).float()\n",
    "ytr,yte = y_all[train_idx], y_all[test_idx]\n",
    "\n",
    "print('X:',xtr.shape,'Xpos:',xtr_pos.shape,'y:',ytr.shape)\n",
    "print('X:',xte.shape,'Xpos:',xte_pos.shape,'y:',yte.shape)\n",
    "params['nk'] = xtr.shape[-1]\n",
    "params['Ncells'] = ytr.shape[-1]\n",
    "train_dataset = pglm.FreeMovingEphysDataset(xtr,xtr_pos,ytr)\n",
    "test_dataset = pglm.FreeMovingEphysDataset(xte,xte_pos,yte)\n",
    "meanbias = torch.mean(y_all,dim=0)\n"
   ]
  },
  {
   "cell_type": "code",
   "execution_count": 8,
   "metadata": {},
   "outputs": [],
   "source": [
    "params['initW'] = 'normal' #'zero' # 'normal'\n",
    "params['optimizer'] = 'sgd'\n",
    "network_config = pglm.make_network_config(params,single_trial=0,custom=True)\n",
    "network_config['lr_w'] = .001\n",
    "network_config['lr_b'] = .1"
   ]
  },
  {
   "cell_type": "code",
   "execution_count": 9,
   "metadata": {},
   "outputs": [
    {
     "data": {
      "application/vnd.jupyter.widget-view+json": {
       "model_id": "d31fffff402247369a494e33500a8f68",
       "version_major": 2,
       "version_minor": 0
      },
      "text/plain": [
       "  0%|          | 0/100 [00:00<?, ?it/s]"
      ]
     },
     "metadata": {},
     "output_type": "display_data"
    }
   ],
   "source": [
    "tloss_trace,vloss_trace,model,optimizer = train_network(network_config, params=params,train_dataset=train_dataset,test_dataset=test_dataset,filename=None,meanbias=meanbias)"
   ]
  },
  {
   "cell_type": "code",
   "execution_count": 10,
   "metadata": {},
   "outputs": [],
   "source": [
    "##### Make prediction #####\n",
    "yhat = model(xte.to(device),xte_pos.to(device)).detach().cpu().numpy().squeeze()\n",
    "yt = yte.cpu().detach().numpy().squeeze()"
   ]
  },
  {
   "cell_type": "code",
   "execution_count": 18,
   "metadata": {},
   "outputs": [
    {
     "data": {
      "image/png": "[encoded data removed]",
      "text/plain": [
       "<Figure size 800x400 with 3 Axes>"
      ]
     },
     "metadata": {},
     "output_type": "display_data"
    }
   ],
   "source": [
    "fig, axs = plt.subplots(1,2,figsize=(8,4))\n",
    "ax = axs[0]\n",
    "cmap = pglm.discrete_cmap(vloss_trace.shape[-1],'jet')\n",
    "for cell in range(vloss_trace.shape[-1]):\n",
    "    ax.plot(vloss_trace[:,cell],c=cmap(cell))\n",
    "ax.set_xlabel('iteration')\n",
    "ax.set_ylabel('loss')\n",
    "sm = plt.cm.ScalarMappable(cmap=cmap, norm=plt.Normalize(vmin=0, vmax=vloss_trace.shape[-1]))\n",
    "cbar = fig.colorbar(sm,ax=ax,format=None,shrink=0.7,pad=0.01)\n",
    "cbar.outline.set_linewidth(1)\n",
    "cbar.set_label('output dim')\n",
    "cbar.ax.tick_params(labelsize=12, width=1,direction='in')\n",
    "\n",
    "ncell = 0\n",
    "ax = axs[1]\n",
    "ax.plot(yte[:,ncell])\n",
    "ax.plot(yhat[:,ncell])\n",
    "ax.set_xlabel('time')\n",
    "ax.set_ylabel('activity')\n",
    "ax.set_title('cc={:.03}'.format(np.corrcoef(yhat[:,ncell],yte[:,ncell])[1,0]))\n",
    "plt.show()"
   ]
  },
  {
   "cell_type": "code",
   "execution_count": 12,
   "metadata": {},
   "outputs": [
    {
     "name": "stdout",
     "output_type": "stream",
     "text": [
      "cc= -0.015062461290473502\n"
     ]
    }
   ],
   "source": [
    "from sklearn.linear_model import LinearRegression\n",
    "x_all2,y_all2 = initialize_GP_inputs(Npats=1000,length_scale=5,batch_size=1,Nx_low=2,Nx=100,Ny_star=2,Nr=50,pytorch=False)\n",
    "x_all2, y_all2 = x_all2.squeeze(),y_all2.squeeze()\n",
    "y_all2 = (y_all2+1)/2\n",
    "x_all2 = x_all2/np.max(np.abs(x_all2))\n",
    "gss = GroupShuffleSplit(n_splits=1, train_size=.8, random_state=42)\n",
    "frac = 0.1\n",
    "nT = x_all2.shape[0]\n",
    "groups = np.hstack([i*np.ones(int((frac*i)*nT) - int((frac*(i-1))*nT)) for i in range(1,int(1/frac)+1)])\n",
    "train_idx, test_idx = next(iter(gss.split(np.arange(x_all2.shape[0]), groups=groups)))\n",
    "# train_idx, test_idx = torch.from_numpy(train_idx), torch.from_numpy(test_idx)\n",
    "xtr2,xte2 = x_all2[train_idx], x_all2[test_idx]\n",
    "xtr_pos2,xte_pos2 = np.zeros_like(xtr2),np.zeros_like(xte2)\n",
    "ytr2,yte2 = y_all2[train_idx], y_all2[test_idx]\n",
    "\n",
    "\n",
    "l1 = LinearRegression()\n",
    "l1.fit(xtr2,ytr2)\n",
    "yhat2 = l1.predict(xte2)\n",
    "print('cc=',np.corrcoef(yhat2[:,ncell],yte2[:,ncell])[0,1])"
   ]
  },
  {
   "cell_type": "code",
   "execution_count": 13,
   "metadata": {},
   "outputs": [
    {
     "data": {
      "text/plain": [
       "[<matplotlib.lines.Line2D at 0x7f19436502b0>]"
      ]
     },
     "execution_count": 13,
     "metadata": {},
     "output_type": "execute_result"
    },
    {
     "data": {
      "image/png": "[encoded data removed]",
      "text/plain": [
       "<Figure size 640x480 with 1 Axes>"
      ]
     },
     "metadata": {},
     "output_type": "display_data"
    }
   ],
   "source": [
    "plt.plot(yte2[:,ncell])\n",
    "plt.plot(yhat2[:,ncell])"
   ]
  },
  {
   "attachments": {},
   "cell_type": "markdown",
   "metadata": {},
   "source": [
    "# Ray Tune Training: Parallel Cross Validation"
   ]
  },
  {
   "cell_type": "code",
   "execution_count": 27,
   "metadata": {},
   "outputs": [],
   "source": [
    "import ray\n",
    "from ray import tune\n",
    "from ray.air import session\n",
    "from ray.tune.search import ConcurrencyLimiter\n",
    "from ray.tune.search.hyperopt import HyperOptSearch\n",
    "from hyperopt import hp"
   ]
  },
  {
   "cell_type": "code",
   "execution_count": 43,
   "metadata": {},
   "outputs": [
    {
     "name": "stdout",
     "output_type": "stream",
     "text": [
      "X: torch.Size([800, 100]) Xpos: torch.Size([800, 100]) y: torch.Size([800, 10])\n",
      "X: torch.Size([200, 100]) Xpos: torch.Size([200, 100]) y: torch.Size([200, 10])\n"
     ]
    }
   ],
   "source": [
    "# Input arguments\n",
    "args = pglm.arg_parser(jupyter=True)\n",
    "\n",
    "##### Modify default argments if needed #####\n",
    "args['base_dir']        = '~/Research/SensoryMotorPred_Data/Testing'\n",
    "args['fig_dir']         = '~/Research/SensoryMotorPred_Data/FigTesting'\n",
    "args['data_dir']        = '~/Goeppert/nlab-nas/Dylan/freely_moving_ephys/ephys_recordings/'\n",
    "args['date_ani']        = '011523/TestAni'\n",
    "args['stim_cond']       = 'Control'\n",
    "args['Nepochs']         = 50\n",
    "args['NoL1']            = True\n",
    "args['NoL2']            = True\n",
    "args['model_dt']        = 0\n",
    "\n",
    "params, exp = load_BaseModel_params(args=args,exp_dir_name='CustomData',ModelID=0)\n",
    "\n",
    "from sklearn.model_selection import GroupShuffleSplit\n",
    "\n",
    "##### Generating data #####\n",
    "x_all,y_all = initialize_GP_inputs(Npats=1000,length_scale=5,batch_size=1,Nx_low=2,Nx=100,Ny_star=2,Nr=10,pytorch=True)\n",
    "x_all, y_all = x_all.squeeze(),y_all.squeeze()\n",
    "y_all = (y_all+1)/2\n",
    "x_all = (x_all - np.nanmean(x_all,axis=0))/np.nanstd(x_all,axis=0)\n",
    "\n",
    "##### Train/Test Splits ####\n",
    "gss = GroupShuffleSplit(n_splits=1, train_size=.8, random_state=42)\n",
    "frac = 0.1\n",
    "nT = x_all.shape[0]\n",
    "groups = np.hstack([i*np.ones(int((frac*i)*nT) - int((frac*(i-1))*nT)) for i in range(1,int(1/frac)+1)])\n",
    "train_idx, test_idx = next(iter(gss.split(np.arange(x_all.shape[0]), groups=groups)))\n",
    "# train_idx, test_idx = torch.from_numpy(train_idx), torch.from_numpy(test_idx)\n",
    "xtr,xte = x_all[train_idx], x_all[test_idx]\n",
    "xtr_pos,xte_pos = torch.zeros_like(xtr).float(),torch.zeros_like(xte).float()\n",
    "ytr,yte = y_all[train_idx], y_all[test_idx]\n",
    "\n",
    "print('X:',xtr.shape,'Xpos:',xtr_pos.shape,'y:',ytr.shape)\n",
    "print('X:',xte.shape,'Xpos:',xte_pos.shape,'y:',yte.shape)\n",
    "\n",
    "params['nk'] = xtr.shape[-1]\n",
    "params['Ncells'] = ytr.shape[-1]\n",
    "train_dataset = pglm.FreeMovingEphysDataset(xtr,xtr_pos,ytr)\n",
    "test_dataset = pglm.FreeMovingEphysDataset(xte,xte_pos,yte)\n",
    "meanbias = torch.mean(y_all,dim=0)\n",
    "\n",
    "params['initW'] = 'normal' #'zero' # 'normal'\n",
    "params['optimizer'] = 'sgd'\n",
    "network_config = pglm.make_network_config(params,custom=True)\n",
    "network_config['lr_w'] = tune.loguniform(1e-4, 1e-2)\n",
    "network_config['lr_b'] = tune.loguniform(1e-2, 1)"
   ]
  },
  {
   "cell_type": "code",
   "execution_count": 44,
   "metadata": {},
   "outputs": [
    {
     "data": {
      "text/plain": [
       "{'in_features': 100,\n",
       " 'Ncells': 10,\n",
       " 'initW': 'normal',\n",
       " 'optimizer': 'sgd',\n",
       " 'lr_w': <ray.tune.search.sample.Float at 0x7f193acb36d0>,\n",
       " 'lr_b': <ray.tune.search.sample.Float at 0x7f193acc19d0>,\n",
       " 'lr_m': 0.001,\n",
       " 'single_trial': None,\n",
       " 'L1_alpha': None,\n",
       " 'L1_alpham': None,\n",
       " 'L2_lambda': 0,\n",
       " 'L2_lambda_m': 0}"
      ]
     },
     "execution_count": 44,
     "metadata": {},
     "output_type": "execute_result"
    }
   ],
   "source": [
    "network_config"
   ]
  },
  {
   "cell_type": "code",
   "execution_count": 45,
   "metadata": {},
   "outputs": [],
   "source": [
    "initial_params = [\n",
    "    {\"lr_w\": 0.001,\"lr_b\": 0.1, },\n",
    "]\n",
    "algo = HyperOptSearch(points_to_evaluate=initial_params)\n",
    "algo = ConcurrencyLimiter(algo, max_concurrent=4)\n",
    "num_samples = 10"
   ]
  },
  {
   "cell_type": "code",
   "execution_count": 46,
   "metadata": {},
   "outputs": [
    {
     "data": {
      "text/html": [
       "<div class=\"tuneStatus\">\n",
       "  <div style=\"display: flex;flex-direction: row\">\n",
       "    <div style=\"display: flex;flex-direction: column;\">\n",
       "      <h3>Tune Status</h3>\n",
       "      <table>\n",
       "<tbody>\n",
       "<tr><td>Current time:</td><td>2023-01-13 11:20:43</td></tr>\n",
       "<tr><td>Running for: </td><td>00:01:07.95        </td></tr>\n",
       "<tr><td>Memory:      </td><td>10.5/125.8 GiB     </td></tr>\n",
       "</tbody>\n",
       "</table>\n",
       "    </div>\n",
       "    <div class=\"vDivider\"></div>\n",
       "    <div class=\"systemInfo\">\n",
       "      <h3>System Info</h3>\n",
       "      Using FIFO scheduling algorithm.<br>Resources requested: 0/32 CPUs, 0/1 GPUs, 0.0/74.67 GiB heap, 0.0/35.99 GiB objects (0.0/1.0 accelerator_type:G)\n",
       "    </div>\n",
       "    \n",
       "  </div>\n",
       "  <div class=\"hDivider\"></div>\n",
       "  <div class=\"trialStatus\">\n",
       "    <h3>Trial Status</h3>\n",
       "    <table>\n",
       "<thead>\n",
       "<tr><th>Trial name            </th><th>status    </th><th>loc                  </th><th>L1_alpha  </th><th>L1_alpham  </th><th style=\"text-align: right;\">  L2_lambda</th><th style=\"text-align: right;\">  L2_lambda_m</th><th style=\"text-align: right;\">  Ncells</th><th style=\"text-align: right;\">  in_features</th><th>initW  </th><th style=\"text-align: right;\">     lr_b</th><th style=\"text-align: right;\">  lr_m</th><th style=\"text-align: right;\">       lr_w</th><th>optimizer  </th><th>single_trial  </th><th style=\"text-align: right;\">  iter</th><th style=\"text-align: right;\">  total time (s)</th><th style=\"text-align: right;\">  avg_loss</th></tr>\n",
       "</thead>\n",
       "<tbody>\n",
       "<tr><td>train_network_5224df17</td><td>TERMINATED</td><td>184.171.84.86:1657923</td><td>          </td><td>           </td><td style=\"text-align: right;\">          0</td><td style=\"text-align: right;\">            0</td><td style=\"text-align: right;\">      10</td><td style=\"text-align: right;\">          100</td><td>normal </td><td style=\"text-align: right;\">0.1      </td><td style=\"text-align: right;\"> 0.001</td><td style=\"text-align: right;\">0.001      </td><td>sgd        </td><td>              </td><td style=\"text-align: right;\">     1</td><td style=\"text-align: right;\">         12.9318</td><td style=\"text-align: right;\"> 0.0434549</td></tr>\n",
       "<tr><td>train_network_8e25638d</td><td>TERMINATED</td><td>184.171.84.86:1658139</td><td>          </td><td>           </td><td style=\"text-align: right;\">          0</td><td style=\"text-align: right;\">            0</td><td style=\"text-align: right;\">      10</td><td style=\"text-align: right;\">          100</td><td>normal </td><td style=\"text-align: right;\">0.446128 </td><td style=\"text-align: right;\"> 0.001</td><td style=\"text-align: right;\">0.00538552 </td><td>sgd        </td><td>              </td><td style=\"text-align: right;\">     1</td><td style=\"text-align: right;\">         13.1143</td><td style=\"text-align: right;\"> 0.037612 </td></tr>\n",
       "<tr><td>train_network_316a0af1</td><td>TERMINATED</td><td>184.171.84.86:1657923</td><td>          </td><td>           </td><td style=\"text-align: right;\">          0</td><td style=\"text-align: right;\">            0</td><td style=\"text-align: right;\">      10</td><td style=\"text-align: right;\">          100</td><td>normal </td><td style=\"text-align: right;\">0.633968 </td><td style=\"text-align: right;\"> 0.001</td><td style=\"text-align: right;\">0.000532799</td><td>sgd        </td><td>              </td><td style=\"text-align: right;\">     1</td><td style=\"text-align: right;\">         11.6908</td><td style=\"text-align: right;\"> 0.0188265</td></tr>\n",
       "<tr><td>train_network_a753ecd4</td><td>TERMINATED</td><td>184.171.84.86:1658139</td><td>          </td><td>           </td><td style=\"text-align: right;\">          0</td><td style=\"text-align: right;\">            0</td><td style=\"text-align: right;\">      10</td><td style=\"text-align: right;\">          100</td><td>normal </td><td style=\"text-align: right;\">0.23396  </td><td style=\"text-align: right;\"> 0.001</td><td style=\"text-align: right;\">0.000269113</td><td>sgd        </td><td>              </td><td style=\"text-align: right;\">     1</td><td style=\"text-align: right;\">         11.5098</td><td style=\"text-align: right;\"> 0.0174897</td></tr>\n",
       "<tr><td>train_network_08e2e0f7</td><td>TERMINATED</td><td>184.171.84.86:1657923</td><td>          </td><td>           </td><td style=\"text-align: right;\">          0</td><td style=\"text-align: right;\">            0</td><td style=\"text-align: right;\">      10</td><td style=\"text-align: right;\">          100</td><td>normal </td><td style=\"text-align: right;\">0.243565 </td><td style=\"text-align: right;\"> 0.001</td><td style=\"text-align: right;\">0.000200358</td><td>sgd        </td><td>              </td><td style=\"text-align: right;\">     1</td><td style=\"text-align: right;\">         11.7329</td><td style=\"text-align: right;\"> 0.0462232</td></tr>\n",
       "<tr><td>train_network_5a1b8f0d</td><td>TERMINATED</td><td>184.171.84.86:1658139</td><td>          </td><td>           </td><td style=\"text-align: right;\">          0</td><td style=\"text-align: right;\">            0</td><td style=\"text-align: right;\">      10</td><td style=\"text-align: right;\">          100</td><td>normal </td><td style=\"text-align: right;\">0.513312 </td><td style=\"text-align: right;\"> 0.001</td><td style=\"text-align: right;\">0.00889551 </td><td>sgd        </td><td>              </td><td style=\"text-align: right;\">     1</td><td style=\"text-align: right;\">         11.736 </td><td style=\"text-align: right;\"> 0.015631 </td></tr>\n",
       "<tr><td>train_network_c09b4746</td><td>TERMINATED</td><td>184.171.84.86:1657923</td><td>          </td><td>           </td><td style=\"text-align: right;\">          0</td><td style=\"text-align: right;\">            0</td><td style=\"text-align: right;\">      10</td><td style=\"text-align: right;\">          100</td><td>normal </td><td style=\"text-align: right;\">0.690922 </td><td style=\"text-align: right;\"> 0.001</td><td style=\"text-align: right;\">0.000708959</td><td>sgd        </td><td>              </td><td style=\"text-align: right;\">     1</td><td style=\"text-align: right;\">         11.8979</td><td style=\"text-align: right;\"> 0.0170802</td></tr>\n",
       "<tr><td>train_network_07796106</td><td>TERMINATED</td><td>184.171.84.86:1658139</td><td>          </td><td>           </td><td style=\"text-align: right;\">          0</td><td style=\"text-align: right;\">            0</td><td style=\"text-align: right;\">      10</td><td style=\"text-align: right;\">          100</td><td>normal </td><td style=\"text-align: right;\">0.0521636</td><td style=\"text-align: right;\"> 0.001</td><td style=\"text-align: right;\">0.00864241 </td><td>sgd        </td><td>              </td><td style=\"text-align: right;\">     1</td><td style=\"text-align: right;\">         11.7651</td><td style=\"text-align: right;\"> 0.113334 </td></tr>\n",
       "<tr><td>train_network_393ad4a3</td><td>TERMINATED</td><td>184.171.84.86:1657923</td><td>          </td><td>           </td><td style=\"text-align: right;\">          0</td><td style=\"text-align: right;\">            0</td><td style=\"text-align: right;\">      10</td><td style=\"text-align: right;\">          100</td><td>normal </td><td style=\"text-align: right;\">0.411091 </td><td style=\"text-align: right;\"> 0.001</td><td style=\"text-align: right;\">0.00043406 </td><td>sgd        </td><td>              </td><td style=\"text-align: right;\">     1</td><td style=\"text-align: right;\">         11.8601</td><td style=\"text-align: right;\"> 0.0165167</td></tr>\n",
       "<tr><td>train_network_a70395b4</td><td>TERMINATED</td><td>184.171.84.86:1658139</td><td>          </td><td>           </td><td style=\"text-align: right;\">          0</td><td style=\"text-align: right;\">            0</td><td style=\"text-align: right;\">      10</td><td style=\"text-align: right;\">          100</td><td>normal </td><td style=\"text-align: right;\">0.0138695</td><td style=\"text-align: right;\"> 0.001</td><td style=\"text-align: right;\">0.00073675 </td><td>sgd        </td><td>              </td><td style=\"text-align: right;\">     1</td><td style=\"text-align: right;\">         11.8515</td><td style=\"text-align: right;\"> 0.172963 </td></tr>\n",
       "</tbody>\n",
       "</table>\n",
       "  </div>\n",
       "</div>\n",
       "<style>\n",
       ".tuneStatus {\n",
       "  color: var(--jp-ui-font-color1);\n",
       "}\n",
       ".tuneStatus .systemInfo {\n",
       "  display: flex;\n",
       "  flex-direction: column;\n",
       "}\n",
       ".tuneStatus td {\n",
       "  white-space: nowrap;\n",
       "}\n",
       ".tuneStatus .trialStatus {\n",
       "  display: flex;\n",
       "  flex-direction: column;\n",
       "}\n",
       ".tuneStatus h3 {\n",
       "  font-weight: bold;\n",
       "}\n",
       ".tuneStatus .hDivider {\n",
       "  border-bottom-width: var(--jp-border-width);\n",
       "  border-bottom-color: var(--jp-border-color0);\n",
       "  border-bottom-style: solid;\n",
       "}\n",
       ".tuneStatus .vDivider {\n",
       "  border-left-width: var(--jp-border-width);\n",
       "  border-left-color: var(--jp-border-color0);\n",
       "  border-left-style: solid;\n",
       "  margin: 0.5em 1em 0.5em 1em;\n",
       "}\n",
       "</style>\n"
      ],
      "text/plain": [
       "<IPython.core.display.HTML object>"
      ]
     },
     "metadata": {},
     "output_type": "display_data"
    },
    {
     "data": {
      "text/html": [
       "<div class=\"trialProgress\">\n",
       "  <h3>Trial Progress</h3>\n",
       "  <table>\n",
       "<thead>\n",
       "<tr><th>Trial name            </th><th style=\"text-align: right;\">  avg_loss</th><th>should_checkpoint  </th></tr>\n",
       "</thead>\n",
       "<tbody>\n",
       "<tr><td>train_network_07796106</td><td style=\"text-align: right;\"> 0.113334 </td><td>True               </td></tr>\n",
       "<tr><td>train_network_08e2e0f7</td><td style=\"text-align: right;\"> 0.0462232</td><td>True               </td></tr>\n",
       "<tr><td>train_network_316a0af1</td><td style=\"text-align: right;\"> 0.0188265</td><td>True               </td></tr>\n",
       "<tr><td>train_network_393ad4a3</td><td style=\"text-align: right;\"> 0.0165167</td><td>True               </td></tr>\n",
       "<tr><td>train_network_5224df17</td><td style=\"text-align: right;\"> 0.0434549</td><td>True               </td></tr>\n",
       "<tr><td>train_network_5a1b8f0d</td><td style=\"text-align: right;\"> 0.015631 </td><td>True               </td></tr>\n",
       "<tr><td>train_network_8e25638d</td><td style=\"text-align: right;\"> 0.037612 </td><td>True               </td></tr>\n",
       "<tr><td>train_network_a70395b4</td><td style=\"text-align: right;\"> 0.172963 </td><td>True               </td></tr>\n",
       "<tr><td>train_network_a753ecd4</td><td style=\"text-align: right;\"> 0.0174897</td><td>True               </td></tr>\n",
       "<tr><td>train_network_c09b4746</td><td style=\"text-align: right;\"> 0.0170802</td><td>True               </td></tr>\n",
       "</tbody>\n",
       "</table>\n",
       "</div>\n",
       "<style>\n",
       ".trialProgress {\n",
       "  display: flex;\n",
       "  flex-direction: column;\n",
       "  color: var(--jp-ui-font-color1);\n",
       "}\n",
       ".trialProgress h3 {\n",
       "  font-weight: bold;\n",
       "}\n",
       ".trialProgress td {\n",
       "  white-space: nowrap;\n",
       "}\n",
       "</style>\n"
      ],
      "text/plain": [
       "<IPython.core.display.HTML object>"
      ]
     },
     "metadata": {},
     "output_type": "display_data"
    },
    {
     "name": "stdout",
     "output_type": "stream",
     "text": [
      "\u001b[2m\u001b[36m(train_network pid=1657923)\u001b[0m Finished Training\n",
      "\u001b[2m\u001b[36m(train_network pid=1658139)\u001b[0m Finished Training\n",
      "\u001b[2m\u001b[36m(train_network pid=1657923)\u001b[0m Finished Training\n",
      "\u001b[2m\u001b[36m(train_network pid=1658139)\u001b[0m Finished Training\n",
      "\u001b[2m\u001b[36m(train_network pid=1657923)\u001b[0m Finished Training\n",
      "\u001b[2m\u001b[36m(train_network pid=1658139)\u001b[0m Finished Training\n",
      "\u001b[2m\u001b[36m(train_network pid=1657923)\u001b[0m Finished Training\n",
      "\u001b[2m\u001b[36m(train_network pid=1658139)\u001b[0m Finished Training\n",
      "\u001b[2m\u001b[36m(train_network pid=1657923)\u001b[0m Finished Training\n"
     ]
    },
    {
     "name": "stderr",
     "output_type": "stream",
     "text": [
      "2023-01-13 11:20:43,117\tINFO tune.py:762 -- Total run time: 68.07 seconds (67.94 seconds for the tuning loop).\n"
     ]
    },
    {
     "name": "stdout",
     "output_type": "stream",
     "text": [
      "\u001b[2m\u001b[36m(train_network pid=1658139)\u001b[0m Finished Training\n",
      "Best trial config: {'in_features': 100, 'Ncells': 10, 'initW': 'normal', 'optimizer': 'sgd', 'lr_w': 0.008895509683650736, 'lr_b': 0.5133115763129447, 'lr_m': 0.001, 'single_trial': None, 'L1_alpha': None, 'L1_alpham': None, 'L2_lambda': 0, 'L2_lambda_m': 0}\n",
      "Best trial final validation loss: 0.01563102751970291\n"
     ]
    }
   ],
   "source": [
    "\n",
    "sync_config = tune.SyncConfig()  # the default mode is to use use rsync\n",
    "tuner = tune.Tuner(\n",
    "    tune.with_resources(\n",
    "        tune.with_parameters(train_network,params=params,train_dataset=train_dataset,test_dataset=test_dataset),\n",
    "        resources={\"cpu\": 2, \"gpu\": .5}),\n",
    "    tune_config=tune.TuneConfig(metric=\"avg_loss\",mode=\"min\",search_alg=algo,num_samples=num_samples),\n",
    "    param_space=network_config,\n",
    "    run_config=air.RunConfig(local_dir=params['save_model'], name=\"NetworkAnalysis\",sync_config=sync_config,verbose=2)\n",
    ")\n",
    "results = tuner.fit()\n",
    "\n",
    "best_result = results.get_best_result(\"avg_loss\", \"min\")\n",
    "\n",
    "print(\"Best trial config: {}\".format(best_result.config))\n",
    "print(\"Best trial final validation loss: {}\".format(best_result.metrics[\"avg_loss\"]))\n",
    "df = results.get_dataframe()\n",
    "best_network = list(params['save_model'].glob('*{}.pt'.format(best_result.metrics['trial_id'])))[0]\n",
    "pglm.h5store(params['save_model'] / 'NetworkAnalysis/experiment_data.h5', df, **{'best_network':best_network})"
   ]
  },
  {
   "cell_type": "code",
   "execution_count": 52,
   "metadata": {},
   "outputs": [],
   "source": [
    "state_dict,optim2=torch.load(best_network)"
   ]
  },
  {
   "cell_type": "code",
   "execution_count": 53,
   "metadata": {},
   "outputs": [
    {
     "data": {
      "text/plain": [
       "odict_keys(['Cell_NN.0.weight', 'Cell_NN.0.bias'])"
      ]
     },
     "execution_count": 53,
     "metadata": {},
     "output_type": "execute_result"
    }
   ],
   "source": []
  },
  {
   "cell_type": "code",
   "execution_count": null,
   "metadata": {},
   "outputs": [],
   "source": []
  }
 ],
 "metadata": {
  "kernelspec": {
   "display_name": "pytorchGLM",
   "language": "python",
   "name": "python3"
  },
  "language_info": {
   "codemirror_mode": {
    "name": "ipython",
    "version": 3
   },
   "file_extension": ".py",
   "mimetype": "text/x-python",
   "name": "python",
   "nbconvert_exporter": "python",
   "pygments_lexer": "ipython3",
   "version": "3.8.0"
  },
  "orig_nbformat": 4,
  "vscode": {
   "interpreter": {
    "hash": "3496b118a4d22d6a6f5485f441160c3e17db178642e3548badf1988c7bf383fe"
   }
  }
 },
 "nbformat": 4,
 "nbformat_minor": 2
}
